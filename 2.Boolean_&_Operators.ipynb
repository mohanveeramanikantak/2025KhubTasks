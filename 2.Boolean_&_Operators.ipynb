{
  "nbformat": 4,
  "nbformat_minor": 0,
  "metadata": {
    "colab": {
      "provenance": [],
      "collapsed_sections": [
        "w9uAAh4QEe20",
        "0u-d4j4KGjY9",
        "KE3m5o6uJLPn",
        "nwk2oIEYJtQI",
        "1oKWXeZNJ7yb",
        "LJF_vl-oKCqW",
        "5ffzYUyqKO4E",
        "CFlWVrLBKZfW"
      ],
      "authorship_tag": "ABX9TyOnJ+dNhZKrVjx/xG8kKxI8",
      "include_colab_link": true
    },
    "kernelspec": {
      "name": "python3",
      "display_name": "Python 3"
    },
    "language_info": {
      "name": "python"
    }
  },
  "cells": [
    {
      "cell_type": "markdown",
      "metadata": {
        "id": "view-in-github",
        "colab_type": "text"
      },
      "source": [
        "<a href=\"https://colab.research.google.com/github/mohanveeramanikantak/2025KhubTasks/blob/main/2.Boolean_%26_Operators.ipynb\" target=\"_parent\"><img src=\"https://colab.research.google.com/assets/colab-badge.svg\" alt=\"Open In Colab\"/></a>"
      ]
    },
    {
      "cell_type": "markdown",
      "source": [
        "# Basic Boolean Python Program (with True/False outputs):"
      ],
      "metadata": {
        "id": "w9uAAh4QEe20"
      }
    },
    {
      "cell_type": "code",
      "source": [
        "text = \"Hello123\"\n",
        "\n",
        "#Check if all characters are alphabets\n",
        "print(text.isalpha())\n",
        "\n",
        "#Check if all characters are digits\n",
        "print(text.isdigit())\n",
        "\n",
        "#Check if the string starts with 'Hello'\n",
        "print(text.startswith(\"Hello\"))"
      ],
      "metadata": {
        "colab": {
          "base_uri": "https://localhost:8080/"
        },
        "id": "P7lZ0hvUEhYl",
        "outputId": "831d641b-4cd5-46f7-f187-5e98cce95d3a"
      },
      "execution_count": null,
      "outputs": [
        {
          "output_type": "stream",
          "name": "stdout",
          "text": [
            "False\n",
            "False\n",
            "True\n"
          ]
        }
      ]
    },
    {
      "cell_type": "markdown",
      "source": [
        "#Arithmetic Operators"
      ],
      "metadata": {
        "id": "0u-d4j4KGjY9"
      }
    },
    {
      "cell_type": "code",
      "source": [
        "a = 10\n",
        "b = 3\n",
        "print(\"Addition:\", a + b)\n",
        "print(\"Subtraction:\", a - b)\n",
        "print(\"Multiplication:\", a * b)\n",
        "print(\"Division:\", a / b)\n",
        "print(\"Modulus:\", a % b)\n",
        "print(\"Exponentiation:\", a ** b)\n",
        "print(\"Floor Division:\", a // b)"
      ],
      "metadata": {
        "colab": {
          "base_uri": "https://localhost:8080/"
        },
        "id": "ibmY6gXJGoeO",
        "outputId": "f1a08b18-e1af-463c-8592-7ea732ab1f77"
      },
      "execution_count": null,
      "outputs": [
        {
          "output_type": "stream",
          "name": "stdout",
          "text": [
            "Addition: 13\n",
            "Subtraction: 7\n",
            "Multiplication: 30\n",
            "Division: 3.3333333333333335\n",
            "Modulus: 1\n",
            "Exponentiation: 1000\n",
            "Floor Division: 3\n"
          ]
        }
      ]
    },
    {
      "cell_type": "markdown",
      "source": [
        "#Assignment Operators\n"
      ],
      "metadata": {
        "id": "KE3m5o6uJLPn"
      }
    },
    {
      "cell_type": "code",
      "source": [
        "x = 5\n",
        "x += 3\n",
        "print(\"x += 3:\", x)\n",
        "x -= 2\n",
        "print(\"x -= 2:\", x)\n",
        "x *= 2\n",
        "print(\"x *= 2:\", x)\n",
        "x /= 2\n",
        "print(\"x /= 2:\", x)\n",
        "x %= 3\n",
        "print(\"x %= 3:\", x)\n",
        "x = 4\n",
        "x //= 2\n",
        "print(\"x //= 2:\", x)\n",
        "x **= 3\n",
        "print(\"x **= 3:\", x)\n"
      ],
      "metadata": {
        "colab": {
          "base_uri": "https://localhost:8080/"
        },
        "id": "Tuw0fBGyJe8N",
        "outputId": "48c2f551-c24a-4865-a930-07b28b1ac091"
      },
      "execution_count": null,
      "outputs": [
        {
          "output_type": "stream",
          "name": "stdout",
          "text": [
            "x += 3: 8\n",
            "x -= 2: 6\n",
            "x *= 2: 12\n",
            "x /= 2: 6.0\n",
            "x %= 3: 0.0\n",
            "x //= 2: 2\n",
            "x **= 3: 8\n"
          ]
        }
      ]
    },
    {
      "cell_type": "markdown",
      "source": [
        "#Bitwise Assignment Operators"
      ],
      "metadata": {
        "id": "nwk2oIEYJtQI"
      }
    },
    {
      "cell_type": "code",
      "source": [
        "x = 5\n",
        "x &= 3\n",
        "print(\"x &= 3:\", x)\n",
        "x |= 2\n",
        "print(\"x |= 2:\", x)\n",
        "x ^= 1\n",
        "print(\"x ^= 1:\", x)\n",
        "x >>= 1\n",
        "print(\"x >>= 1:\", x)\n",
        "x <<= 2\n",
        "print(\"x <<= 2:\", x)\n"
      ],
      "metadata": {
        "colab": {
          "base_uri": "https://localhost:8080/"
        },
        "id": "416LZWxgJ0qT",
        "outputId": "8996a1f9-bf6b-446a-b53e-70a3329ba22e"
      },
      "execution_count": null,
      "outputs": [
        {
          "output_type": "stream",
          "name": "stdout",
          "text": [
            "x &= 3: 1\n",
            "x |= 2: 3\n",
            "x ^= 1: 2\n",
            "x >>= 1: 1\n",
            "x <<= 2: 4\n"
          ]
        }
      ]
    },
    {
      "cell_type": "markdown",
      "source": [
        "#Comparison Operators"
      ],
      "metadata": {
        "id": "1oKWXeZNJ7yb"
      }
    },
    {
      "cell_type": "code",
      "source": [
        "a = 10\n",
        "b = 20\n",
        "print(\"Equal:\", a == b)\n",
        "print(\"Not Equal:\", a != b)\n",
        "print(\"Greater Than:\", a > b)\n",
        "print(\"Less Than:\", a < b)\n",
        "print(\"Greater Than or Equal To:\", a >= b)\n",
        "print(\"Less Than or Equal To:\", a <= b)"
      ],
      "metadata": {
        "colab": {
          "base_uri": "https://localhost:8080/"
        },
        "id": "F5c5FfMDJ8p4",
        "outputId": "d065765d-43f5-431c-c6b6-dbbf302b0de1"
      },
      "execution_count": null,
      "outputs": [
        {
          "output_type": "stream",
          "name": "stdout",
          "text": [
            "Equal: False\n",
            "Not Equal: True\n",
            "Greater Than: False\n",
            "Less Than: True\n",
            "Greater Than or Equal To: False\n",
            "Less Than or Equal To: True\n"
          ]
        }
      ]
    },
    {
      "cell_type": "markdown",
      "source": [
        "#Logical Operators"
      ],
      "metadata": {
        "id": "LJF_vl-oKCqW"
      }
    },
    {
      "cell_type": "code",
      "source": [
        "a = 10\n",
        "b = 5\n",
        "print(\"Logical AND:\", a > 5 and b < 10)\n",
        "print(\"Logical OR:\", a < 5 or b < 10)\n",
        "print(\"Logical NOT:\", not (a == b))\n"
      ],
      "metadata": {
        "colab": {
          "base_uri": "https://localhost:8080/"
        },
        "id": "M1kLyuVnKGEw",
        "outputId": "138e7522-2b46-416e-d5ba-9dcaf6f3ee2c"
      },
      "execution_count": null,
      "outputs": [
        {
          "output_type": "stream",
          "name": "stdout",
          "text": [
            "Logical AND: True\n",
            "Logical OR: True\n",
            "Logical NOT: True\n"
          ]
        }
      ]
    },
    {
      "cell_type": "markdown",
      "source": [
        "# Identity Operators"
      ],
      "metadata": {
        "id": "5ffzYUyqKO4E"
      }
    },
    {
      "cell_type": "code",
      "source": [
        "x = [1, 2, 3]\n",
        "y = [1, 2, 3]\n",
        "z = x\n",
        "print(\"x is z:\", x is z)\n",
        "print(\"x is y:\", x is y)\n",
        "print(\"x is not y:\", x is not y)\n"
      ],
      "metadata": {
        "colab": {
          "base_uri": "https://localhost:8080/"
        },
        "id": "dhO4cOHlKRtA",
        "outputId": "9da44a29-02a3-447d-9b48-fcd1f711b826"
      },
      "execution_count": null,
      "outputs": [
        {
          "output_type": "stream",
          "name": "stdout",
          "text": [
            "x is z: True\n",
            "x is y: False\n",
            "x is not y: True\n"
          ]
        }
      ]
    },
    {
      "cell_type": "markdown",
      "source": [
        "#Membership Operators"
      ],
      "metadata": {
        "id": "h3ra4138KTXf"
      }
    },
    {
      "cell_type": "code",
      "source": [
        "x = [1, 2, 3]\n",
        "print(\"2 in x:\", 2 in x)\n",
        "print(\"4 not in x:\", 4 not in x)\n"
      ],
      "metadata": {
        "colab": {
          "base_uri": "https://localhost:8080/"
        },
        "id": "AshQSxebKVwj",
        "outputId": "37a69229-2c7e-4ca3-fb96-6bf4186f1e38"
      },
      "execution_count": null,
      "outputs": [
        {
          "output_type": "stream",
          "name": "stdout",
          "text": [
            "2 in x: True\n",
            "4 not in x: True\n"
          ]
        }
      ]
    },
    {
      "cell_type": "markdown",
      "source": [
        "#Bitwise Operators"
      ],
      "metadata": {
        "id": "CFlWVrLBKZfW"
      }
    },
    {
      "cell_type": "code",
      "source": [
        "a = 5  # 0101\n",
        "b = 3  # 0011\n",
        "print(\"AND:\", a & b)\n",
        "print(\"OR:\", a | b)\n",
        "print(\"XOR:\", a ^ b)\n",
        "print(\"NOT:\", ~a)\n",
        "print(\"Left Shift:\", a << 1)\n",
        "print(\"Right Shift:\", a >> 1)"
      ],
      "metadata": {
        "colab": {
          "base_uri": "https://localhost:8080/"
        },
        "id": "h7rGTqfKKkYt",
        "outputId": "ae5fd7b5-366b-4425-c0d6-9f244f662939"
      },
      "execution_count": null,
      "outputs": [
        {
          "output_type": "stream",
          "name": "stdout",
          "text": [
            "AND: 1\n",
            "OR: 7\n",
            "XOR: 6\n",
            "NOT: -6\n",
            "Left Shift: 10\n",
            "Right Shift: 2\n"
          ]
        }
      ]
    }
  ]
}