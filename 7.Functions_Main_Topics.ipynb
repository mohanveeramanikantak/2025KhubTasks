{
  "nbformat": 4,
  "nbformat_minor": 0,
  "metadata": {
    "colab": {
      "provenance": [],
      "authorship_tag": "ABX9TyPIXUfJYi86vkc5hSJoADHs",
      "include_colab_link": true
    },
    "kernelspec": {
      "name": "python3",
      "display_name": "Python 3"
    },
    "language_info": {
      "name": "python"
    }
  },
  "cells": [
    {
      "cell_type": "markdown",
      "metadata": {
        "id": "view-in-github",
        "colab_type": "text"
      },
      "source": [
        "<a href=\"https://colab.research.google.com/github/mohanveeramanikantak/2025KhubTasks/blob/main/7.Functions_Main_Topics.ipynb\" target=\"_parent\"><img src=\"https://colab.research.google.com/assets/colab-badge.svg\" alt=\"Open In Colab\"/></a>"
      ]
    },
    {
      "cell_type": "markdown",
      "source": [
        "##Kalepu Mohan Veera Manikanta\n",
        "##23B21A4316     ,   KHUB-T7"
      ],
      "metadata": {
        "id": "vDacFlxezfol"
      }
    },
    {
      "cell_type": "markdown",
      "source": [
        "#Functions"
      ],
      "metadata": {
        "id": "8jLHNyPuzbZb"
      }
    },
    {
      "cell_type": "code",
      "source": [
        "#Defining and Calling Functions\n",
        "#Functions are reusable blocks of code that perform a specific task.\n",
        "#Syntax (Using def keyword):\n",
        "#def function_name(parameters):\n",
        "    # code block\n",
        "    #return result (optional)"
      ],
      "metadata": {
        "id": "zc6Y1bzvzerh"
      },
      "execution_count": null,
      "outputs": []
    },
    {
      "cell_type": "code",
      "source": [
        "#Simple Function (no parameters)\n",
        "def greet():\n",
        "    print(\"Hello, I'm Mohank\")\n",
        "\n",
        "# Calling the function\n",
        "greet()"
      ],
      "metadata": {
        "colab": {
          "base_uri": "https://localhost:8080/"
        },
        "id": "Nva3OKGt0e7a",
        "outputId": "87c49a75-b1f1-4fc7-9ae8-782f401a6d01"
      },
      "execution_count": 3,
      "outputs": [
        {
          "output_type": "stream",
          "name": "stdout",
          "text": [
            "Hello, I'm Mohank\n"
          ]
        }
      ]
    },
    {
      "cell_type": "code",
      "source": [
        "#Function with Parameters\n",
        "def greet_user(name):\n",
        "    print(\"Hello,\", name)\n",
        "\n",
        "greet_user(\"Pavani Akkoooo\")"
      ],
      "metadata": {
        "colab": {
          "base_uri": "https://localhost:8080/"
        },
        "id": "G5Ly5KB-0gEC",
        "outputId": "c8255957-f2bc-4ff6-c80e-894a317cd501"
      },
      "execution_count": 8,
      "outputs": [
        {
          "output_type": "stream",
          "name": "stdout",
          "text": [
            "Hello, Pavani Akkoooo\n"
          ]
        }
      ]
    },
    {
      "cell_type": "code",
      "source": [
        "#Function with return\n",
        "def add(a, b):\n",
        "    return a + b\n",
        "\n",
        "result = add(5, 3)\n",
        "print(\"Sum is:\", result)"
      ],
      "metadata": {
        "colab": {
          "base_uri": "https://localhost:8080/"
        },
        "id": "6dMC0rjZ1Z7I",
        "outputId": "7500df31-3cd7-495b-d970-465472ac4095"
      },
      "execution_count": 9,
      "outputs": [
        {
          "output_type": "stream",
          "name": "stdout",
          "text": [
            "Sum is: 8\n"
          ]
        }
      ]
    },
    {
      "cell_type": "code",
      "source": [
        "#Function with condition and return\n",
        "def is_even(num):\n",
        "    if num % 2 == 0:\n",
        "        return True\n",
        "    else:\n",
        "        return False\n",
        "\n",
        "print(is_even(4))\n",
        "print(is_even(5))"
      ],
      "metadata": {
        "colab": {
          "base_uri": "https://localhost:8080/"
        },
        "id": "mNdwlBGL14S-",
        "outputId": "e2fd0863-2193-44ab-e597-f22addbe9127"
      },
      "execution_count": 11,
      "outputs": [
        {
          "output_type": "stream",
          "name": "stdout",
          "text": [
            "True\n",
            "False\n"
          ]
        }
      ]
    },
    {
      "cell_type": "code",
      "source": [
        "#Return multiple values\n",
        "def operations(a, b):\n",
        "    return a + b, a - b, a * b\n",
        "\n",
        "add, sub, mul = operations(10, 5)\n",
        "print(\"Add:\", add, \"Sub:\", sub, \"Mul:\", mul)\n"
      ],
      "metadata": {
        "colab": {
          "base_uri": "https://localhost:8080/"
        },
        "id": "AXYljiSF2Lz2",
        "outputId": "f814cb80-109c-4934-fde2-2a1c859a06c5"
      },
      "execution_count": 13,
      "outputs": [
        {
          "output_type": "stream",
          "name": "stdout",
          "text": [
            "Add: 15 Sub: 5 Mul: 50\n"
          ]
        }
      ]
    },
    {
      "cell_type": "code",
      "source": [
        "#Return multiple values\n",
        "def get_name_and_age():\n",
        "    name = \"Mohank\"\n",
        "    age = 20\n",
        "    return name, age\n",
        "\n",
        "name, age = get_name_and_age()\n",
        "print(\"Name:\", name)\n",
        "print(\"Age:\", age)"
      ],
      "metadata": {
        "colab": {
          "base_uri": "https://localhost:8080/"
        },
        "id": "8yTW9Oe52E0g",
        "outputId": "49ebc006-e9ae-4e02-84fc-9f66b37574da"
      },
      "execution_count": 12,
      "outputs": [
        {
          "output_type": "stream",
          "name": "stdout",
          "text": [
            "Name: Mohank\n",
            "Age: 20\n"
          ]
        }
      ]
    },
    {
      "cell_type": "markdown",
      "source": [
        "#Function Arguments in Python"
      ],
      "metadata": {
        "id": "rtg3uf8k2934"
      }
    },
    {
      "cell_type": "code",
      "source": [
        "#Positional Arguments\n",
        "def greet(name, age):\n",
        "    print(\"Hello,\", name, \"You are\", age, \"years old.\")\n",
        "\n",
        "greet(\"Mohank\", 20)"
      ],
      "metadata": {
        "colab": {
          "base_uri": "https://localhost:8080/"
        },
        "id": "t5YXfZxT3CQD",
        "outputId": "cffb2e59-3024-4efc-a172-926d93d53851"
      },
      "execution_count": 14,
      "outputs": [
        {
          "output_type": "stream",
          "name": "stdout",
          "text": [
            "Hello, Mohank You are 20 years old.\n"
          ]
        }
      ]
    },
    {
      "cell_type": "code",
      "source": [
        "#Positional Arguments\n",
        "def info(name, age):\n",
        "    print(f\"Name: {name}, Age: {age}\")\n",
        "\n",
        "info(\"Mohan\", 20)"
      ],
      "metadata": {
        "colab": {
          "base_uri": "https://localhost:8080/"
        },
        "id": "h6PT7iX43VAF",
        "outputId": "181aafe2-2158-430e-8c45-8e3dbc49c588"
      },
      "execution_count": 15,
      "outputs": [
        {
          "output_type": "stream",
          "name": "stdout",
          "text": [
            "Name: Mohan, Age: 20\n"
          ]
        }
      ]
    },
    {
      "cell_type": "code",
      "source": [
        "#Default Arguments\n",
        "def greet(name=\"Guest\"):\n",
        "    print(\"Hello\", name)\n",
        "\n",
        "greet()\n",
        "greet(\"Mohan\")\n",
        "greet(\"Khub\")"
      ],
      "metadata": {
        "colab": {
          "base_uri": "https://localhost:8080/"
        },
        "id": "S_w4kX_C3cRW",
        "outputId": "acd985c7-48dd-4fa9-bf3b-c06dc2c63a14"
      },
      "execution_count": 17,
      "outputs": [
        {
          "output_type": "stream",
          "name": "stdout",
          "text": [
            "Hello Guest\n",
            "Hello Mohan\n",
            "Hello Khub\n"
          ]
        }
      ]
    },
    {
      "cell_type": "code",
      "source": [
        "#Keyword Arguments\n",
        "def student(name, branch):\n",
        "    print(f\"{name} is from {branch}\")\n",
        "\n",
        "student(branch=\"CSE_AI\", name=\"Mohan\")\n"
      ],
      "metadata": {
        "colab": {
          "base_uri": "https://localhost:8080/"
        },
        "id": "AurjQLNp4GHL",
        "outputId": "eadbd4be-9eaa-47d9-e289-2c207c428b51"
      },
      "execution_count": 19,
      "outputs": [
        {
          "output_type": "stream",
          "name": "stdout",
          "text": [
            "Mohan is from CSE_AI\n"
          ]
        }
      ]
    },
    {
      "cell_type": "code",
      "source": [
        "#*args – Variable Number of Positional Arguments\n",
        "def add_all(*nums):\n",
        "    total = sum(nums)\n",
        "    print(\"Sum:\", total)\n",
        "\n",
        "add_all(1, 2, 3, 4)"
      ],
      "metadata": {
        "colab": {
          "base_uri": "https://localhost:8080/"
        },
        "id": "ZJa9aV024S8G",
        "outputId": "b38147fb-c5df-47d8-a408-f068a16f8163"
      },
      "execution_count": 20,
      "outputs": [
        {
          "output_type": "stream",
          "name": "stdout",
          "text": [
            "Sum: 10\n"
          ]
        }
      ]
    },
    {
      "cell_type": "code",
      "source": [
        "#**kwargs – Variable Number of Keyword Arguments\n",
        "def user_info(**kwargs):\n",
        "    for key, value in kwargs.items():\n",
        "        print(f\"{key}: {value}\")\n",
        "\n",
        "user_info(name=\"Mohan\", age=20, college=\"KIET\")"
      ],
      "metadata": {
        "colab": {
          "base_uri": "https://localhost:8080/"
        },
        "id": "CRyYB-Nf4tFh",
        "outputId": "8e92292d-fbba-44ce-c609-0690363bdfaa"
      },
      "execution_count": 21,
      "outputs": [
        {
          "output_type": "stream",
          "name": "stdout",
          "text": [
            "name: Mohan\n",
            "age: 20\n",
            "college: KIET\n"
          ]
        }
      ]
    },
    {
      "cell_type": "markdown",
      "source": [
        "#Scope of Variables in Python"
      ],
      "metadata": {
        "id": "DsWC6uYE5Lin"
      }
    },
    {
      "cell_type": "code",
      "source": [
        "#Local Variables\n",
        "#Declared inside a function\n",
        "#Accessible only within that function\n",
        "def greet():\n",
        "    name = \"Mohan\"\n",
        "    print(\"Hello\", name)\n",
        "\n",
        "greet()"
      ],
      "metadata": {
        "colab": {
          "base_uri": "https://localhost:8080/"
        },
        "id": "2JnSJBCy5Mmq",
        "outputId": "491cc2c0-fb2d-48a6-e945-933364880263"
      },
      "execution_count": 22,
      "outputs": [
        {
          "output_type": "stream",
          "name": "stdout",
          "text": [
            "Hello Mohan\n"
          ]
        }
      ]
    },
    {
      "cell_type": "code",
      "source": [
        "#Global Variables\n",
        "#Declared outside all functions\n",
        "#Can be accessed anywhere in the code (including inside functions if not re-assigned)\n",
        "college = \"KIET\"\n",
        "def show_college():\n",
        "    print(\"College:\", college)\n",
        "\n",
        "show_college()\n",
        "print(college)"
      ],
      "metadata": {
        "colab": {
          "base_uri": "https://localhost:8080/"
        },
        "id": "pug0hba85gIE",
        "outputId": "aa44f6b6-fece-42e8-ed33-bf86a6e94119"
      },
      "execution_count": 23,
      "outputs": [
        {
          "output_type": "stream",
          "name": "stdout",
          "text": [
            "College: KIET\n",
            "KIET\n"
          ]
        }
      ]
    },
    {
      "cell_type": "code",
      "source": [
        "#global Keyword\n",
        "count = 0  # global variable\n",
        "\n",
        "def increase():\n",
        "    global count\n",
        "    count += 1\n",
        "\n",
        "increase()\n",
        "print(\"Count is:\", count)"
      ],
      "metadata": {
        "colab": {
          "base_uri": "https://localhost:8080/"
        },
        "id": "0s7C2FFE5tHI",
        "outputId": "f65f7f25-0560-4a9a-fa05-c4c412ea825d"
      },
      "execution_count": 25,
      "outputs": [
        {
          "output_type": "stream",
          "name": "stdout",
          "text": [
            "Count is: 1\n"
          ]
        }
      ]
    },
    {
      "cell_type": "code",
      "source": [],
      "metadata": {
        "id": "xVnEthAZ7Ing"
      },
      "execution_count": null,
      "outputs": []
    },
    {
      "cell_type": "markdown",
      "source": [
        "#Lambda Functions in Python\n",
        "\n",
        "\n",
        "\n",
        "1.   ✅ What is a Lambda Function?\n",
        "\n",
        "*   A lambda is an anonymous (nameless) function in Python.\n",
        "\n",
        "*   Defined in one line using the lambda keyword.\n",
        "\n",
        "* Used when you need a simple function for a short time.\n",
        "\n",
        "\n",
        "2.  Syntax:\n",
        "\n",
        "* lambda arguments: expression\n",
        "\n",
        "\n"
      ],
      "metadata": {
        "id": "WcriPGbU6wFZ"
      }
    },
    {
      "cell_type": "code",
      "source": [
        "# Simple Lambda Function\n",
        "square = lambda x: x * x\n",
        "print(square(5))\n"
      ],
      "metadata": {
        "colab": {
          "base_uri": "https://localhost:8080/"
        },
        "id": "qZIpQfOx7g5Q",
        "outputId": "879c2509-d362-4741-cf6d-39a00cf675dc"
      },
      "execution_count": 26,
      "outputs": [
        {
          "output_type": "stream",
          "name": "stdout",
          "text": [
            "25\n"
          ]
        }
      ]
    },
    {
      "cell_type": "code",
      "source": [
        "# Add two numbers\n",
        "add = lambda a, b: a + b\n",
        "print(add(3, 4))  # Output: 7"
      ],
      "metadata": {
        "colab": {
          "base_uri": "https://localhost:8080/"
        },
        "id": "82mybX9M7oWT",
        "outputId": "388264c4-bac1-4cba-c940-a50fa588a03f"
      },
      "execution_count": 27,
      "outputs": [
        {
          "output_type": "stream",
          "name": "stdout",
          "text": [
            "7\n"
          ]
        }
      ]
    },
    {
      "cell_type": "markdown",
      "source": [
        "## Usage with Built-in Functions\n"
      ],
      "metadata": {
        "id": "UWovB9yQ7tTY"
      }
    },
    {
      "cell_type": "code",
      "source": [
        "#map() – Apply a function to every item in a list\n",
        "nums = [1, 2, 3, 4]\n",
        "squares = list(map(lambda x: x*x, nums))\n",
        "print(squares)"
      ],
      "metadata": {
        "colab": {
          "base_uri": "https://localhost:8080/"
        },
        "id": "t3QJ1ppN7uX_",
        "outputId": "1d7a8677-7c91-4e49-d081-df8236d7b036"
      },
      "execution_count": 29,
      "outputs": [
        {
          "output_type": "stream",
          "name": "stdout",
          "text": [
            "[1, 4, 9, 16]\n"
          ]
        }
      ]
    },
    {
      "cell_type": "code",
      "source": [
        "#filter() – Select items that meet a condition\n",
        "nums = [1, 2, 3, 4, 5, 6]\n",
        "even = list(filter(lambda x: x % 2 == 0, nums))\n",
        "print(even)  # Output: [2, 4, 6]\n"
      ],
      "metadata": {
        "colab": {
          "base_uri": "https://localhost:8080/"
        },
        "id": "S-TVAMTT794J",
        "outputId": "c588c87c-a146-4a0a-803c-d1a2a2a01e0f"
      },
      "execution_count": 30,
      "outputs": [
        {
          "output_type": "stream",
          "name": "stdout",
          "text": [
            "[2, 4, 6]\n"
          ]
        }
      ]
    },
    {
      "cell_type": "code",
      "source": [
        "#reduce() – Reduce a list to a single valu\n",
        "from functools import reduce\n",
        "\n",
        "nums = [1, 2, 3, 4]\n",
        "product = reduce(lambda x, y: x * y, nums)\n",
        "print(product)  # Output: 24"
      ],
      "metadata": {
        "colab": {
          "base_uri": "https://localhost:8080/"
        },
        "id": "Wa-r1AZh8EHi",
        "outputId": "8addab12-68b5-49d3-c47d-973998264fc7"
      },
      "execution_count": 31,
      "outputs": [
        {
          "output_type": "stream",
          "name": "stdout",
          "text": [
            "24\n"
          ]
        }
      ]
    }
  ]
}