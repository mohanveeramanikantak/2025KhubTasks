{
  "nbformat": 4,
  "nbformat_minor": 0,
  "metadata": {
    "colab": {
      "provenance": [],
      "collapsed_sections": [
        "xkn70A9fwJYj",
        "LFr9liO3wPP3",
        "7ZQcOg9TwTT9",
        "rDhcOPoqwaYR",
        "DHZgyS7swmde",
        "FpESiEiWxBCK",
        "L-IXBGbLxIiZ",
        "VfXHMlI1xUD4",
        "WXs_akMixatn",
        "dsCDqJ4bxvdq",
        "Y-RaCHDXynPa"
      ],
      "authorship_tag": "ABX9TyNzWGHU0/dfiRSDo2J2r9rP",
      "include_colab_link": true
    },
    "kernelspec": {
      "name": "python3",
      "display_name": "Python 3"
    },
    "language_info": {
      "name": "python"
    }
  },
  "cells": [
    {
      "cell_type": "markdown",
      "metadata": {
        "id": "view-in-github",
        "colab_type": "text"
      },
      "source": [
        "<a href=\"https://colab.research.google.com/github/mohanveeramanikantak/2025KhubTasks/blob/main/1.Python_Strings_%26_String_Methods.ipynb\" target=\"_parent\"><img src=\"https://colab.research.google.com/assets/colab-badge.svg\" alt=\"Open In Colab\"/></a>"
      ]
    },
    {
      "cell_type": "markdown",
      "source": [
        "#Strings"
      ],
      "metadata": {
        "id": "xkn70A9fwJYj"
      }
    },
    {
      "cell_type": "code",
      "execution_count": null,
      "metadata": {
        "colab": {
          "base_uri": "https://localhost:8080/"
        },
        "id": "-uMV_vA-lr81",
        "outputId": "d5c1fb92-aa38-416d-c136-4ed84b291fd7"
      },
      "outputs": [
        {
          "output_type": "stream",
          "name": "stdout",
          "text": [
            "HELLO\n",
            "I'm Moahn\n"
          ]
        }
      ],
      "source": [
        "#Strings in python are surrounded by either single quotation marks, or double quotation marks.\n",
        "#'hello' is the same as \"hello\".\n",
        "#You can display a string literal with the print() function:\n",
        "print(\"HELLO\")\n",
        "print(\"I'm Moahn\")\n"
      ]
    },
    {
      "cell_type": "markdown",
      "source": [
        "#Assign String to a Variable"
      ],
      "metadata": {
        "id": "LFr9liO3wPP3"
      }
    },
    {
      "cell_type": "code",
      "source": [
        "#Assigning a string to a variable is done with the variable name followed by anequal sign and the string:\n",
        "a= \"Mohan\"\n",
        "print(a)\n"
      ],
      "metadata": {
        "colab": {
          "base_uri": "https://localhost:8080/"
        },
        "id": "3Adl2Wvvvcoe",
        "outputId": "4898294f-015a-4744-dca0-767a68ac1b70"
      },
      "execution_count": null,
      "outputs": [
        {
          "output_type": "stream",
          "name": "stdout",
          "text": [
            "Mohan\n"
          ]
        }
      ]
    },
    {
      "cell_type": "markdown",
      "source": [
        "#Multiline Strings"
      ],
      "metadata": {
        "id": "7ZQcOg9TwTT9"
      }
    },
    {
      "cell_type": "code",
      "source": [
        "#You can assign a multiline string to a variable by using three quotes:\n",
        "a= \"\"\" I'm Kalepu Mohan Veera Manikanta\n",
        "S/O Kalepu Srinivasu\"\"\"\n",
        "print(a)\n"
      ],
      "metadata": {
        "colab": {
          "base_uri": "https://localhost:8080/"
        },
        "id": "ouK-HSyCvgiI",
        "outputId": "389e7ae9-97ee-4178-eb4d-14a406a2f4d7"
      },
      "execution_count": null,
      "outputs": [
        {
          "output_type": "stream",
          "name": "stdout",
          "text": [
            " I'm Kalepu Mohan Veera Manikanta\n",
            "S/O Kalepu Srinivasu\n"
          ]
        }
      ]
    },
    {
      "cell_type": "markdown",
      "source": [
        "#Strings are Arrays"
      ],
      "metadata": {
        "id": "rDhcOPoqwaYR"
      }
    },
    {
      "cell_type": "code",
      "source": [
        "#Like many other popular programming languages, strings in Python are arrays of unicode characters.\n",
        "#However, Python does not have a character data type, a single character is simply a string with a length of 1.\n",
        "#Square brackets can be used to access elements of the string.\n",
        "wel = \"Kalepu Mohan Veera Manikanta\"\n",
        "print(wel[0])\n"
      ],
      "metadata": {
        "colab": {
          "base_uri": "https://localhost:8080/"
        },
        "id": "lsAs3F3svlKW",
        "outputId": "261b4f8f-71cc-490c-ffb0-df4b4db1e2fb"
      },
      "execution_count": null,
      "outputs": [
        {
          "output_type": "stream",
          "name": "stdout",
          "text": [
            "K\n"
          ]
        }
      ]
    },
    {
      "cell_type": "markdown",
      "source": [
        "#Looping Through a String"
      ],
      "metadata": {
        "id": "DHZgyS7swmde"
      }
    },
    {
      "cell_type": "code",
      "source": [
        "#Since strings are arrays, we can loop through the characters in a string, with a for loop.\n",
        "\n",
        "for x in \"KIET - HUB\":\n",
        "    print(x)\n"
      ],
      "metadata": {
        "colab": {
          "base_uri": "https://localhost:8080/"
        },
        "id": "c5R0qCEcvoJo",
        "outputId": "3821cec9-7fee-463f-803f-318c1a3f76c9"
      },
      "execution_count": null,
      "outputs": [
        {
          "output_type": "stream",
          "name": "stdout",
          "text": [
            "K\n",
            "I\n",
            "E\n",
            "T\n",
            " \n",
            "-\n",
            " \n",
            "H\n",
            "U\n",
            "B\n"
          ]
        }
      ]
    },
    {
      "cell_type": "markdown",
      "source": [
        "#Check String\n",
        "\n"
      ],
      "metadata": {
        "id": "FpESiEiWxBCK"
      }
    },
    {
      "cell_type": "code",
      "source": [
        "#To check if a certain phrase or character is present in a string, we can use the keyword in.\n",
        "Text=\"KIET - Kakinada Institute of Engineering and Technology\"\n",
        "print(\"KIET\" in Text)"
      ],
      "metadata": {
        "colab": {
          "base_uri": "https://localhost:8080/"
        },
        "id": "ImEprUGOxGn_",
        "outputId": "6b53a255-e0f9-4309-a273-85940852e81b"
      },
      "execution_count": null,
      "outputs": [
        {
          "output_type": "stream",
          "name": "stdout",
          "text": [
            "True\n"
          ]
        }
      ]
    },
    {
      "cell_type": "markdown",
      "source": [
        "#Check String in if Not\n",
        "\n"
      ],
      "metadata": {
        "id": "L-IXBGbLxIiZ"
      }
    },
    {
      "cell_type": "code",
      "source": [
        "Text=\"KIET - Kakinada Institute of Engineering and Technology\"\n",
        "if \"KIETT\" not in Text:\n",
        "    print(\"Yes, 'KIETT' is NOT Presnt\")"
      ],
      "metadata": {
        "colab": {
          "base_uri": "https://localhost:8080/"
        },
        "id": "UXna0v5gxLve",
        "outputId": "76f3a7d2-0ea2-4144-e677-0fe1a7f89483"
      },
      "execution_count": null,
      "outputs": [
        {
          "output_type": "stream",
          "name": "stdout",
          "text": [
            "Yes, 'KIETT' is NOT Presnt\n"
          ]
        }
      ]
    },
    {
      "cell_type": "markdown",
      "source": [
        "#Check String in if statement\n"
      ],
      "metadata": {
        "id": "VfXHMlI1xUD4"
      }
    },
    {
      "cell_type": "code",
      "source": [
        "#Use it in an if statement:\n",
        "Text=\"KIET - Kakinada Institute of Engineering and Technology\"\n",
        "if \"KIET\" in Text:\n",
        "    print(\"Yes, 'KIET' is Presnt\")"
      ],
      "metadata": {
        "colab": {
          "base_uri": "https://localhost:8080/"
        },
        "id": "G2BzP7M7xXjX",
        "outputId": "b4ea30bb-fb75-435f-9f57-d164eec7e7b7"
      },
      "execution_count": null,
      "outputs": [
        {
          "output_type": "stream",
          "name": "stdout",
          "text": [
            "Yes, 'KIET' is Presnt\n"
          ]
        }
      ]
    },
    {
      "cell_type": "markdown",
      "source": [
        "#Check String in if Not\n"
      ],
      "metadata": {
        "id": "WXs_akMixatn"
      }
    },
    {
      "cell_type": "code",
      "source": [
        "Text=\"KIET - Kakinada Institute of Engineering and Technology\"\n",
        "if \"KIETT\" not in Text:\n",
        "    print(\"Yes, 'KIETT' is NOT Presnt\")"
      ],
      "metadata": {
        "colab": {
          "base_uri": "https://localhost:8080/"
        },
        "id": "qjvhijOJxgG9",
        "outputId": "0875f831-788e-49a6-c4e0-6d56dedeeeef"
      },
      "execution_count": null,
      "outputs": [
        {
          "output_type": "stream",
          "name": "stdout",
          "text": [
            "Yes, 'KIETT' is NOT Presnt\n"
          ]
        }
      ]
    },
    {
      "cell_type": "markdown",
      "source": [
        "#Python - Slicing Strings"
      ],
      "metadata": {
        "id": "dsCDqJ4bxvdq"
      }
    },
    {
      "cell_type": "code",
      "source": [
        "#You can return a range of characters by using the slice syntax.\n",
        "#Specify the start index and the end index, separated by a colon, to return a part of the string.\n",
        "b = \"Hello, World!\"\n",
        "print(b[2:5])"
      ],
      "metadata": {
        "colab": {
          "base_uri": "https://localhost:8080/"
        },
        "id": "Mno5Tcv-xmKM",
        "outputId": "70c8cfd2-3a9b-4174-88d0-eefbc003109e"
      },
      "execution_count": null,
      "outputs": [
        {
          "output_type": "stream",
          "name": "stdout",
          "text": [
            "llo\n"
          ]
        }
      ]
    },
    {
      "cell_type": "markdown",
      "source": [
        "#Slice From the Start"
      ],
      "metadata": {
        "id": "Y-RaCHDXynPa"
      }
    },
    {
      "cell_type": "code",
      "source": [
        "#By leaving out the start index, the range will start at the first character:\n",
        "b = \"Hello, World!\"\n",
        "print(b[:5])"
      ],
      "metadata": {
        "colab": {
          "base_uri": "https://localhost:8080/"
        },
        "id": "Lalw5ZSjyrDb",
        "outputId": "4884d6e1-6626-4052-cdb1-6a73b4feb434"
      },
      "execution_count": null,
      "outputs": [
        {
          "output_type": "stream",
          "name": "stdout",
          "text": [
            "Hello\n"
          ]
        }
      ]
    },
    {
      "cell_type": "markdown",
      "source": [
        "#Slice To the End"
      ],
      "metadata": {
        "id": "2vWy_pNLzHus"
      }
    },
    {
      "cell_type": "code",
      "source": [
        "#By leaving out the end index, the range will go to the end:\n",
        "b = \"Hello, World!\"\n",
        "print(b[2:])"
      ],
      "metadata": {
        "colab": {
          "base_uri": "https://localhost:8080/"
        },
        "id": "5nj5ceKDzJG5",
        "outputId": "86bcf28b-0ac1-48b1-b97f-a8b2088a79c3"
      },
      "execution_count": null,
      "outputs": [
        {
          "output_type": "stream",
          "name": "stdout",
          "text": [
            "llo, World!\n"
          ]
        }
      ]
    },
    {
      "cell_type": "markdown",
      "source": [
        "#Python - Modify Strings"
      ],
      "metadata": {
        "id": "k9nWOWkn9IJR"
      }
    },
    {
      "cell_type": "code",
      "source": [
        "a = \"Hello, World!\"\n",
        "print(a.upper())\n",
        "print(a.lower())\n",
        "print(a.replace(\"H\", \"J\"))\n",
        "print(a.split(\",\"))"
      ],
      "metadata": {
        "colab": {
          "base_uri": "https://localhost:8080/"
        },
        "id": "fIGgFLPM9Ja-",
        "outputId": "44452b49-bc75-43e7-a6da-68dbc66174c9"
      },
      "execution_count": null,
      "outputs": [
        {
          "output_type": "stream",
          "name": "stdout",
          "text": [
            "HELLO, WORLD!\n",
            "hello, world!\n",
            "Jello, World!\n",
            "['Hello', ' World!']\n"
          ]
        }
      ]
    },
    {
      "cell_type": "markdown",
      "source": [
        "#Python - String Concatenation"
      ],
      "metadata": {
        "id": "eYOI_j6t-CPc"
      }
    },
    {
      "cell_type": "code",
      "source": [
        "a = \"Hello\"\n",
        "b = \"World\"\n",
        "c = a + b\n",
        "d = a + \" \" + b\n",
        "print(c)\n",
        "print(d)"
      ],
      "metadata": {
        "colab": {
          "base_uri": "https://localhost:8080/"
        },
        "id": "0hO6MYY--DvR",
        "outputId": "7a7fb49a-f64c-449e-d740-f68e38993727"
      },
      "execution_count": null,
      "outputs": [
        {
          "output_type": "stream",
          "name": "stdout",
          "text": [
            "HelloWorld\n",
            "Hello World\n"
          ]
        }
      ]
    },
    {
      "cell_type": "markdown",
      "source": [
        "#F-Strings"
      ],
      "metadata": {
        "id": "SDIrguTL-lfP"
      }
    },
    {
      "cell_type": "code",
      "source": [
        "#F-String was introduced in Python 3.6, and is now the preferred way of formatting strings.\n",
        "#To specify a string as an f-string, simply put an f in front of the string literal, and add curly brackets {} as placeholders for variables and other operations.\n",
        "age = 36\n",
        "price = 59\n",
        "txt = f\"My name is John, I am {age}\"\n",
        "txt1 = f\"The price is {price} dollars\"\n",
        "print(txt)\n",
        "print(txt1)"
      ],
      "metadata": {
        "colab": {
          "base_uri": "https://localhost:8080/"
        },
        "id": "m7ZRaQiE-m1P",
        "outputId": "1ea3f8d2-d49e-4b40-cf28-7f762f22263e"
      },
      "execution_count": null,
      "outputs": [
        {
          "output_type": "stream",
          "name": "stdout",
          "text": [
            "My name is John, I am 36\n",
            "The price is 59 dollars\n"
          ]
        }
      ]
    },
    {
      "cell_type": "markdown",
      "source": [
        "#Python - String Methods"
      ],
      "metadata": {
        "id": "pMAw5Jeh_z9Y"
      }
    },
    {
      "cell_type": "code",
      "source": [
        "# String input\n",
        "text = \"  hello world! Welcome to Python 101. Let's learn string METHODS.  \"\n",
        "\n",
        "# 1. capitalize()\n",
        "print(\"Capitalize:\", text.capitalize())\n",
        "\n",
        "# 2. casefold()\n",
        "print(\"Casefold:\", text.casefold())\n",
        "\n",
        "# 3. center()\n",
        "print(\"Center (width=60):\", text.center(60, '-'))\n",
        "\n",
        "# 4. count()\n",
        "print(\"Count of 'o':\", text.count('o'))\n",
        "\n",
        "# 5. encode()\n",
        "print(\"Encoded:\", text.encode())\n",
        "\n",
        "# 6. endswith()\n",
        "print(\"Ends with 'METHODS.':\", text.strip().endswith(\"METHODS.\"))\n",
        "\n",
        "# 7. expandtabs()\n",
        "tab_text = \"Python\\tis\\tawesome\"\n",
        "print(\"Expand Tabs:\", tab_text.expandtabs(4))\n",
        "\n",
        "# 8. find()\n",
        "print(\"Find 'Python':\", text.find(\"Python\"))\n",
        "\n",
        "# 9. format()\n",
        "name = \"Mohan\"\n",
        "print(\"Format:\", \"Hello, {}!\".format(name))\n",
        "\n",
        "# 10. index()\n",
        "print(\"Index of 'learn':\", text.index(\"learn\"))\n",
        "\n",
        "# 11. isalpha()\n",
        "print(\"Is Alpha ('Python'):\", \"Python\".isalpha())\n",
        "\n",
        "# 12. isdigit()\n",
        "print(\"Is Digit ('101'):\", \"101\".isdigit())\n",
        "\n",
        "# 13. islower()\n",
        "print(\"Is Lower:\", text.islower())\n",
        "\n",
        "# 14. isupper()\n",
        "print(\"Is Upper:\", text.isupper())\n",
        "\n",
        "# 15. join()\n",
        "words = ['Python', 'is', 'fun']\n",
        "print(\"Join:\", '-'.join(words))\n",
        "\n",
        "# 16. ljust()\n",
        "print(\"Left Justify:\", text.ljust(60, '*'))\n",
        "\n",
        "# 17. lower()\n",
        "print(\"Lower:\", text.lower())\n",
        "\n",
        "# 18. lstrip()\n",
        "print(\"Left Strip:\", text.lstrip())\n",
        "\n",
        "# 19. partition()\n",
        "print(\"Partition by 'Python':\", text.partition('Python'))\n",
        "\n",
        "# 20. replace()\n",
        "print(\"Replace 'Python' with 'Java':\", text.replace('Python', 'Java'))\n",
        "\n",
        "# 21. rfind()\n",
        "print(\"rfind of 'o':\", text.rfind('o'))\n",
        "\n",
        "# 22. rjust()\n",
        "print(\"Right Justify:\", text.rjust(60, '*'))\n",
        "\n",
        "# 23. rsplit()\n",
        "print(\"Right Split (max 2):\", text.rsplit(' ', 2))\n",
        "\n",
        "# 24. rstrip()\n",
        "print(\"Right Strip:\", text.rstrip())\n",
        "\n",
        "# 25. split()\n",
        "print(\"Split:\", text.split())\n",
        "\n",
        "# 26. splitlines()\n",
        "multiline = \"Hello world\\nWelcome to Python\\nEnjoy coding\"\n",
        "print(\"Split Lines:\", multiline.splitlines())\n",
        "\n",
        "# 27. startswith()\n",
        "print(\"Starts with '  hello':\", text.startswith(\"  hello\"))\n",
        "\n",
        "# 28. strip()\n",
        "print(\"Strip:\", text.strip())\n",
        "\n",
        "# 29. swapcase()\n",
        "print(\"Swap Case:\", text.swapcase())\n",
        "\n",
        "# 30. title()\n",
        "print(\"Title:\", text.title())\n",
        "\n",
        "# 31. upper()\n",
        "print(\"Upper:\", text.upper())\n",
        "\n",
        "# 32. zfill()\n",
        "print(\"Zfill '7':\", \"7\".zfill(5))\n"
      ],
      "metadata": {
        "colab": {
          "base_uri": "https://localhost:8080/"
        },
        "id": "Vj16HyfT_31o",
        "outputId": "33b8a70c-e5fa-4ad6-f17f-3076d371b542"
      },
      "execution_count": null,
      "outputs": [
        {
          "output_type": "stream",
          "name": "stdout",
          "text": [
            "Capitalize:   hello world! welcome to python 101. let's learn string methods.  \n",
            "Casefold:   hello world! welcome to python 101. let's learn string methods.  \n",
            "Center (width=60):   hello world! Welcome to Python 101. Let's learn string METHODS.  \n",
            "Count of 'o': 5\n",
            "Encoded: b\"  hello world! Welcome to Python 101. Let's learn string METHODS.  \"\n",
            "Ends with 'METHODS.': True\n",
            "Expand Tabs: Python  is  awesome\n",
            "Find 'Python': 26\n",
            "Format: Hello, Mohan!\n",
            "Index of 'learn': 44\n",
            "Is Alpha ('Python'): True\n",
            "Is Digit ('101'): True\n",
            "Is Lower: False\n",
            "Is Upper: False\n",
            "Join: Python-is-fun\n",
            "Left Justify:   hello world! Welcome to Python 101. Let's learn string METHODS.  \n",
            "Lower:   hello world! welcome to python 101. let's learn string methods.  \n",
            "Left Strip: hello world! Welcome to Python 101. Let's learn string METHODS.  \n",
            "Partition by 'Python': ('  hello world! Welcome to ', 'Python', \" 101. Let's learn string METHODS.  \")\n",
            "Replace 'Python' with 'Java':   hello world! Welcome to Java 101. Let's learn string METHODS.  \n",
            "rfind of 'o': 30\n",
            "Right Justify:   hello world! Welcome to Python 101. Let's learn string METHODS.  \n",
            "Right Split (max 2): [\"  hello world! Welcome to Python 101. Let's learn string METHODS.\", '', '']\n",
            "Right Strip:   hello world! Welcome to Python 101. Let's learn string METHODS.\n",
            "Split: ['hello', 'world!', 'Welcome', 'to', 'Python', '101.', \"Let's\", 'learn', 'string', 'METHODS.']\n",
            "Split Lines: ['Hello world', 'Welcome to Python', 'Enjoy coding']\n",
            "Starts with '  hello': True\n",
            "Strip: hello world! Welcome to Python 101. Let's learn string METHODS.\n",
            "Swap Case:   HELLO WORLD! wELCOME TO pYTHON 101. lET'S LEARN STRING methods.  \n",
            "Title:   Hello World! Welcome To Python 101. Let'S Learn String Methods.  \n",
            "Upper:   HELLO WORLD! WELCOME TO PYTHON 101. LET'S LEARN STRING METHODS.  \n",
            "Zfill '7': 00007\n"
          ]
        }
      ]
    }
  ]
}