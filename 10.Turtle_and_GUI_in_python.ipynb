{
  "nbformat": 4,
  "nbformat_minor": 0,
  "metadata": {
    "colab": {
      "provenance": [],
      "authorship_tag": "ABX9TyMOpTtQsenRjLJXPbp3jgzW",
      "include_colab_link": true
    },
    "kernelspec": {
      "name": "python3",
      "display_name": "Python 3"
    },
    "language_info": {
      "name": "python"
    }
  },
  "cells": [
    {
      "cell_type": "markdown",
      "metadata": {
        "id": "view-in-github",
        "colab_type": "text"
      },
      "source": [
        "<a href=\"https://colab.research.google.com/github/mohanveeramanikantak/2025KhubTasks/blob/main/10.Turtle_and_GUI_in_python.ipynb\" target=\"_parent\"><img src=\"https://colab.research.google.com/assets/colab-badge.svg\" alt=\"Open In Colab\"/></a>"
      ]
    },
    {
      "cell_type": "markdown",
      "source": [
        "##Kalepu Mohan Veera Manikanta\n",
        "##23B21A4316 , KHUB-T7"
      ],
      "metadata": {
        "id": "DRJkmw21w_xe"
      }
    },
    {
      "cell_type": "markdown",
      "source": [
        "##Turtle & GUI are both fun and visual."
      ],
      "metadata": {
        "id": "Tj-wtpiRxHho"
      }
    },
    {
      "cell_type": "markdown",
      "source": [
        "##🔹 Easy (Turtle – Square)"
      ],
      "metadata": {
        "id": "ijXEyV9BxKqo"
      }
    },
    {
      "cell_type": "code",
      "source": [
        "import turtle as t\n",
        "\n",
        "# Note: Turtle graphics cannot be displayed directly in this environment.\n",
        "# This code will run without a visual output.\n",
        "for i in range(4):\n",
        "    t.forward(100)\n",
        "    t.right(90)\n",
        "\n",
        "# t.done() # t.done() keeps the window open, which is not applicable here."
      ],
      "metadata": {
        "id": "yz41HTEAyASe"
      },
      "execution_count": null,
      "outputs": []
    },
    {
      "cell_type": "markdown",
      "source": [
        "##🔹 Medium (Turtle – Star)"
      ],
      "metadata": {
        "id": "A58Dcgu5yF3k"
      }
    },
    {
      "cell_type": "code",
      "source": [
        "import turtle as t\n",
        "t.color(\"blue\")\n",
        "for i in range(5):\n",
        "    t.forward(150)\n",
        "    t.right(144)\n",
        "t.done()\n"
      ],
      "metadata": {
        "id": "SdTugPmKyH7J"
      },
      "execution_count": null,
      "outputs": []
    },
    {
      "cell_type": "markdown",
      "source": [
        "##🔹 Hard (Turtle – Spiral Pattern)"
      ],
      "metadata": {
        "id": "qMBOXOFOyLE-"
      }
    },
    {
      "cell_type": "code",
      "source": [
        "import turtle as t\n",
        "t.speed(0)\n",
        "t.bgcolor(\"black\")\n",
        "colors = [\"red\", \"yellow\", \"green\", \"blue\", \"purple\"]\n",
        "\n",
        "for i in range(200):\n",
        "    t.pencolor(colors[i % 5])\n",
        "    t.width(i//50 + 1)\n",
        "    t.forward(i)\n",
        "    t.left(59)\n",
        "\n",
        "t.done()\n"
      ],
      "metadata": {
        "id": "4ZJ-3W10yOrV"
      },
      "execution_count": null,
      "outputs": []
    },
    {
      "cell_type": "markdown",
      "source": [
        "##🖥️ GUI with Tkinter\n"
      ],
      "metadata": {
        "id": "jYDtnQIiyVpJ"
      }
    },
    {
      "cell_type": "markdown",
      "source": [
        "###🔹 Easy (Simple Window)"
      ],
      "metadata": {
        "id": "jDfI-Bb2yZiC"
      }
    },
    {
      "cell_type": "code",
      "source": [
        "import tkinter as tk\n",
        "root = tk.Tk()\n",
        "root.title(\"Hello GUI\")\n",
        "tk.Label(root, text=\"Welcome to Tkinter!\").pack()\n",
        "root.mainloop()\n"
      ],
      "metadata": {
        "id": "vleR8SGxya-N"
      },
      "execution_count": null,
      "outputs": []
    },
    {
      "cell_type": "markdown",
      "source": [
        "##🔹 Medium (Button Click)"
      ],
      "metadata": {
        "id": "psvHe2-hyfMr"
      }
    },
    {
      "cell_type": "code",
      "source": [
        "import tkinter as tk\n",
        "def say_hello():\n",
        "    lbl.config(text=\"Hello, Mohan!\")\n",
        "\n",
        "root = tk.Tk()\n",
        "btn = tk.Button(root, text=\"Click Me\", command=say_hello)\n",
        "btn.pack()\n",
        "lbl = tk.Label(root, text=\"\")\n",
        "lbl.pack()\n",
        "root.mainloop()\n"
      ],
      "metadata": {
        "id": "lhcxbo6Nyjro"
      },
      "execution_count": null,
      "outputs": []
    },
    {
      "cell_type": "markdown",
      "source": [
        "##🔹 Hard (Simple Login Form)"
      ],
      "metadata": {
        "id": "akvKytYNyl0w"
      }
    },
    {
      "cell_type": "code",
      "source": [
        "import tkinter as tk\n",
        "\n",
        "def login():\n",
        "    user = entry_user.get()\n",
        "    pwd = entry_pass.get()\n",
        "    if user == \"admin\" and pwd == \"123\":\n",
        "        lbl.config(text=\"Login Successful!\", fg=\"green\")\n",
        "    else:\n",
        "        lbl.config(text=\"Invalid Credentials!\", fg=\"red\")\n",
        "\n",
        "root = tk.Tk()\n",
        "root.title(\"Login Form\")\n",
        "\n",
        "tk.Label(root, text=\"Username\").pack()\n",
        "entry_user = tk.Entry(root)\n",
        "entry_user.pack()\n",
        "\n",
        "tk.Label(root, text=\"Password\").pack()\n",
        "entry_pass = tk.Entry(root, show=\"*\")\n",
        "entry_pass.pack()\n",
        "\n",
        "tk.Button(root, text=\"Login\", command=login).pack()\n",
        "lbl = tk.Label(root, text=\"\")\n",
        "lbl.pack()\n",
        "\n",
        "root.mainloop()\n"
      ],
      "metadata": {
        "id": "5dVUZHYoywkr"
      },
      "execution_count": null,
      "outputs": []
    }
  ]
}