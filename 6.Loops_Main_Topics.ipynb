{
  "nbformat": 4,
  "nbformat_minor": 0,
  "metadata": {
    "colab": {
      "provenance": [],
      "authorship_tag": "ABX9TyOWz6INdYYeYoTGEm7bPU2S",
      "include_colab_link": true
    },
    "kernelspec": {
      "name": "python3",
      "display_name": "Python 3"
    },
    "language_info": {
      "name": "python"
    }
  },
  "cells": [
    {
      "cell_type": "markdown",
      "metadata": {
        "id": "view-in-github",
        "colab_type": "text"
      },
      "source": [
        "<a href=\"https://colab.research.google.com/github/mohanveeramanikantak/2025KhubTasks/blob/main/6.Loops_Main_Topics.ipynb\" target=\"_parent\"><img src=\"https://colab.research.google.com/assets/colab-badge.svg\" alt=\"Open In Colab\"/></a>"
      ]
    },
    {
      "cell_type": "markdown",
      "source": [
        "##Kalepu Mohan Veera Manikanta\n",
        "##23B21A4316 , KHUB-T7"
      ],
      "metadata": {
        "id": "NqIMP1TA8Woc"
      }
    },
    {
      "cell_type": "markdown",
      "source": [
        "#For Loop\n",
        "\n",
        "\n",
        "```\n",
        "Loops – Main Topics\n",
        "1. for Loop\n",
        "2. while Loop\n",
        "3. Loop Control Statements\n",
        "4. Loop with else\n",
        "5. Nested Loops\n",
        "```\n"
      ],
      "metadata": {
        "id": "VlJG2QJ0giLD"
      }
    },
    {
      "cell_type": "markdown",
      "source": [
        "##Print numbers 1 to 5\n",
        "\n",
        "> 1. for Loop in Python\n",
        "> 2. Syntax with range()\n",
        "> 3. for i in range(start, stop, step):\n",
        "> 4. Code block\n",
        "\n"
      ],
      "metadata": {
        "id": "3Ng841yah4sd"
      }
    },
    {
      "cell_type": "code",
      "source": [
        "#1. for Loop\n",
        "#Syntax and usage with range()\n",
        "#Iterating over lists, strings, tuples, etc.\n",
        "\n",
        "\n",
        "for i in range(1, 6):\n",
        "    print(i)"
      ],
      "metadata": {
        "colab": {
          "base_uri": "https://localhost:8080/"
        },
        "id": "f9l8bIpbgxv1",
        "outputId": "6746f0b0-ee34-4cd3-dd20-958d82e3f368"
      },
      "execution_count": 3,
      "outputs": [
        {
          "output_type": "stream",
          "name": "stdout",
          "text": [
            "1\n",
            "2\n",
            "3\n",
            "4\n",
            "5\n"
          ]
        }
      ]
    },
    {
      "cell_type": "code",
      "source": [
        "# Print numbers from 0 to 4\n",
        "for i in range(5):\n",
        "    print(i)"
      ],
      "metadata": {
        "colab": {
          "base_uri": "https://localhost:8080/"
        },
        "id": "mtrA2AgFhLwv",
        "outputId": "d76eb70e-587c-400b-9365-7cb59ae20c8f"
      },
      "execution_count": 4,
      "outputs": [
        {
          "output_type": "stream",
          "name": "stdout",
          "text": [
            "0\n",
            "1\n",
            "2\n",
            "3\n",
            "4\n"
          ]
        }
      ]
    },
    {
      "cell_type": "code",
      "source": [
        "# Print numbers from 1 to 10\n",
        "for i in range(1, 11):\n",
        "    print(i)"
      ],
      "metadata": {
        "colab": {
          "base_uri": "https://localhost:8080/"
        },
        "id": "F2KgMtwai9sj",
        "outputId": "0f276a71-25aa-47d0-efe3-e9b3fa8ae789"
      },
      "execution_count": 5,
      "outputs": [
        {
          "output_type": "stream",
          "name": "stdout",
          "text": [
            "1\n",
            "2\n",
            "3\n",
            "4\n",
            "5\n",
            "6\n",
            "7\n",
            "8\n",
            "9\n",
            "10\n"
          ]
        }
      ]
    },
    {
      "cell_type": "code",
      "source": [
        "# Print even numbers from 2 to 20\n",
        "for i in range(2, 21, 2):\n",
        "    print(i)"
      ],
      "metadata": {
        "colab": {
          "base_uri": "https://localhost:8080/"
        },
        "id": "3wD1i6YWjCu-",
        "outputId": "cb3fc284-31a0-4c57-a112-5dc4e349f7d9"
      },
      "execution_count": 10,
      "outputs": [
        {
          "output_type": "stream",
          "name": "stdout",
          "text": [
            "2\n",
            "4\n",
            "6\n",
            "8\n",
            "10\n",
            "12\n",
            "14\n",
            "16\n",
            "18\n",
            "20\n"
          ]
        }
      ]
    },
    {
      "cell_type": "markdown",
      "source": [
        "###Iterating over Lists"
      ],
      "metadata": {
        "id": "zU_FynzHjWD7"
      }
    },
    {
      "cell_type": "code",
      "source": [
        "fruits = ['apple', 'banana', 'cherry']\n",
        "for fruit in fruits:\n",
        "    print(fruit)"
      ],
      "metadata": {
        "colab": {
          "base_uri": "https://localhost:8080/"
        },
        "id": "wYmsuCIHjYi3",
        "outputId": "cacd7a83-fb08-4d25-a38d-1d8792577f96"
      },
      "execution_count": 11,
      "outputs": [
        {
          "output_type": "stream",
          "name": "stdout",
          "text": [
            "apple\n",
            "banana\n",
            "cherry\n"
          ]
        }
      ]
    },
    {
      "cell_type": "markdown",
      "source": [
        "###Iterating over Strings"
      ],
      "metadata": {
        "id": "OG_5cHMmjft7"
      }
    },
    {
      "cell_type": "code",
      "source": [
        "name = \"Mohan\"\n",
        "for char in name:\n",
        "    print(char)"
      ],
      "metadata": {
        "colab": {
          "base_uri": "https://localhost:8080/"
        },
        "id": "uXGFmUYBjkFc",
        "outputId": "b2e9cf0f-31e2-4093-e94f-392b95d5ae7e"
      },
      "execution_count": 12,
      "outputs": [
        {
          "output_type": "stream",
          "name": "stdout",
          "text": [
            "M\n",
            "o\n",
            "h\n",
            "a\n",
            "n\n"
          ]
        }
      ]
    },
    {
      "cell_type": "markdown",
      "source": [
        "###Iterating over Tuples"
      ],
      "metadata": {
        "id": "OJeLS_fsjtXn"
      }
    },
    {
      "cell_type": "code",
      "source": [
        "numbers = (10, 20, 30)\n",
        "for num in numbers:\n",
        "    print(num)"
      ],
      "metadata": {
        "colab": {
          "base_uri": "https://localhost:8080/"
        },
        "id": "zgpeecMvjvvB",
        "outputId": "89f41c35-199f-4a84-feee-3f68bf888e87"
      },
      "execution_count": 13,
      "outputs": [
        {
          "output_type": "stream",
          "name": "stdout",
          "text": [
            "10\n",
            "20\n",
            "30\n"
          ]
        }
      ]
    },
    {
      "cell_type": "markdown",
      "source": [
        "###Iterating with Index"
      ],
      "metadata": {
        "id": "QQDj-NAwj3rP"
      }
    },
    {
      "cell_type": "code",
      "source": [
        "colors = ['red', 'green', 'blue']\n",
        "for index, color in enumerate(colors):\n",
        "    print(index, color)"
      ],
      "metadata": {
        "colab": {
          "base_uri": "https://localhost:8080/"
        },
        "id": "SI0Syd0yj48o",
        "outputId": "5cd714ec-8462-4b2d-85a3-a616aba03951"
      },
      "execution_count": 14,
      "outputs": [
        {
          "output_type": "stream",
          "name": "stdout",
          "text": [
            "0 red\n",
            "1 green\n",
            "2 blue\n"
          ]
        }
      ]
    },
    {
      "cell_type": "markdown",
      "source": [
        "#2. while Loop in Python\n",
        "####A while loop keeps running as long as the condition is True."
      ],
      "metadata": {
        "id": "71nwyRZdkdvR"
      }
    },
    {
      "cell_type": "code",
      "source": [
        "#Print numbers from 1 to 5\n",
        "i = 1\n",
        "while i <= 5:\n",
        "    print(i)\n",
        "    i += 1"
      ],
      "metadata": {
        "colab": {
          "base_uri": "https://localhost:8080/"
        },
        "id": "jN6cfABUs9kr",
        "outputId": "4a49dd04-6dd1-4c5a-82e0-6ce77469ddc7"
      },
      "execution_count": 16,
      "outputs": [
        {
          "output_type": "stream",
          "name": "stdout",
          "text": [
            "1\n",
            "2\n",
            "3\n",
            "4\n",
            "5\n"
          ]
        }
      ]
    },
    {
      "cell_type": "code",
      "source": [
        "# Count down from 5 to 1\n",
        "i = 5\n",
        "while i >= 1:\n",
        "    print(i)\n",
        "    i -= 1"
      ],
      "metadata": {
        "colab": {
          "base_uri": "https://localhost:8080/"
        },
        "id": "edIEHREDtB-U",
        "outputId": "519df857-6812-447f-b5f5-6ebf8ef5c9dd"
      },
      "execution_count": 18,
      "outputs": [
        {
          "output_type": "stream",
          "name": "stdout",
          "text": [
            "5\n",
            "4\n",
            "3\n",
            "2\n",
            "1\n"
          ]
        }
      ]
    },
    {
      "cell_type": "code",
      "source": [
        "# Using while with break (exit loop early)\n",
        "i = 1\n",
        "while i <= 10:\n",
        "    if i == 8:\n",
        "        break\n",
        "    print(i)\n",
        "    i += 1"
      ],
      "metadata": {
        "colab": {
          "base_uri": "https://localhost:8080/"
        },
        "id": "47isphqbtJGg",
        "outputId": "b064139e-6268-4010-d635-66e3d484e12f"
      },
      "execution_count": 20,
      "outputs": [
        {
          "output_type": "stream",
          "name": "stdout",
          "text": [
            "1\n",
            "2\n",
            "3\n",
            "4\n",
            "5\n",
            "6\n",
            "7\n"
          ]
        }
      ]
    },
    {
      "cell_type": "code",
      "source": [
        "#Using while with continue (skip current iteration)\n",
        "i = 0\n",
        "while i < 5:\n",
        "    i += 1\n",
        "    if i == 3:\n",
        "        continue\n",
        "    print(i)"
      ],
      "metadata": {
        "colab": {
          "base_uri": "https://localhost:8080/"
        },
        "id": "M9NaybkdtWrC",
        "outputId": "db53c7c8-14df-416b-eecf-dec49592a4c8"
      },
      "execution_count": 21,
      "outputs": [
        {
          "output_type": "stream",
          "name": "stdout",
          "text": [
            "1\n",
            "2\n",
            "4\n",
            "5\n"
          ]
        }
      ]
    },
    {
      "cell_type": "code",
      "source": [
        "#checking correct password\n",
        "password = \"\"\n",
        "while password != \"admin123\":\n",
        "    password = input(\"Enter password: \")\n",
        "print(\"Access granted!\")"
      ],
      "metadata": {
        "colab": {
          "base_uri": "https://localhost:8080/"
        },
        "id": "SrFIhc4vtikf",
        "outputId": "7f2aba75-b3ef-4644-857f-920a31b6cd69"
      },
      "execution_count": 23,
      "outputs": [
        {
          "output_type": "stream",
          "name": "stdout",
          "text": [
            "Enter password: mojhK;HNKJ\n",
            "Enter password: FHGSL\n",
            "Enter password: hf;\n",
            "Enter password: jhgfhde\n",
            "Enter password: hgf\n",
            "Enter password: admin123\n",
            "Access granted!\n"
          ]
        }
      ]
    },
    {
      "cell_type": "markdown",
      "source": [
        "#3. Loop Control Statements in Python\n",
        "\n",
        "\n",
        "###Loop control statements are used to change the flow of execution inside loops.\n",
        "\n"
      ],
      "metadata": {
        "id": "Z09-QNNCuFEs"
      }
    },
    {
      "cell_type": "code",
      "source": [
        "##break – Stop the loop immediately\n",
        "for i in range(1, 10):\n",
        "    if i == 5:\n",
        "        break\n",
        "    print(i)"
      ],
      "metadata": {
        "colab": {
          "base_uri": "https://localhost:8080/"
        },
        "id": "i9TzDKgJuZTe",
        "outputId": "2d23b97e-e409-4e0f-d50e-a9d1d23b8d11"
      },
      "execution_count": 25,
      "outputs": [
        {
          "output_type": "stream",
          "name": "stdout",
          "text": [
            "1\n",
            "2\n",
            "3\n",
            "4\n"
          ]
        }
      ]
    },
    {
      "cell_type": "code",
      "source": [
        "#continue – Skip current iteration and continue\n",
        "for i in range(1, 6):\n",
        "    if i == 3:\n",
        "        continue\n",
        "    print(i)"
      ],
      "metadata": {
        "colab": {
          "base_uri": "https://localhost:8080/"
        },
        "id": "RKQU6ZOKvDBt",
        "outputId": "cfd75ca9-1c3e-48e3-a8c4-ad2fd36ef9e6"
      },
      "execution_count": 26,
      "outputs": [
        {
          "output_type": "stream",
          "name": "stdout",
          "text": [
            "1\n",
            "2\n",
            "4\n",
            "5\n"
          ]
        }
      ]
    },
    {
      "cell_type": "code",
      "source": [
        "#pass – Do nothing (placeholder)\n",
        "for i in range(1, 6):\n",
        "    if i == 3:\n",
        "        pass  # do nothing\n",
        "    print(i)"
      ],
      "metadata": {
        "colab": {
          "base_uri": "https://localhost:8080/"
        },
        "id": "4I6JD9gWvRr1",
        "outputId": "f347942d-c690-4aea-f6bf-14795ea4c342"
      },
      "execution_count": 27,
      "outputs": [
        {
          "output_type": "stream",
          "name": "stdout",
          "text": [
            "1\n",
            "2\n",
            "3\n",
            "4\n",
            "5\n"
          ]
        }
      ]
    },
    {
      "cell_type": "markdown",
      "source": [
        "#Loop with else in Python\n"
      ],
      "metadata": {
        "id": "9IKsdpUQvqdx"
      }
    },
    {
      "cell_type": "code",
      "source": [
        "#for loop with else\n",
        "for i in range(1, 6):\n",
        "    print(i)\n",
        "    if i == 3:\n",
        "        break\n",
        "else:\n",
        "    print(\"Loop completed successfully.\")"
      ],
      "metadata": {
        "colab": {
          "base_uri": "https://localhost:8080/"
        },
        "id": "_E92czqnvsBE",
        "outputId": "8fbb44b0-c7dd-4947-9618-f3ae4c551a7f"
      },
      "execution_count": 29,
      "outputs": [
        {
          "output_type": "stream",
          "name": "stdout",
          "text": [
            "1\n",
            "2\n",
            "3\n"
          ]
        }
      ]
    },
    {
      "cell_type": "code",
      "source": [
        "#for loop with else (no break)\n",
        "for i in range(1, 4):\n",
        "    print(i)\n",
        "else:\n",
        "    print(\"Loop completed without break.\")"
      ],
      "metadata": {
        "colab": {
          "base_uri": "https://localhost:8080/"
        },
        "id": "SLtRiOovvvN3",
        "outputId": "ea012dd0-26c4-4608-f137-dc0bdcefeeed"
      },
      "execution_count": 30,
      "outputs": [
        {
          "output_type": "stream",
          "name": "stdout",
          "text": [
            "1\n",
            "2\n",
            "3\n",
            "Loop completed without break.\n"
          ]
        }
      ]
    },
    {
      "cell_type": "code",
      "source": [
        "#Prime Number Check using for-else\n",
        "num = int(input(\"Enter a number: \"))\n",
        "\n",
        "for i in range(2, num):\n",
        "    if num % i == 0:\n",
        "        print(f\"{num} is not prime.\")\n",
        "        break\n",
        "else:\n",
        "    print(f\"{num} is a prime number.\")"
      ],
      "metadata": {
        "colab": {
          "base_uri": "https://localhost:8080/"
        },
        "id": "DC5cgzt8v6VA",
        "outputId": "502c4819-e6a4-4500-b604-30bab2b5ef19"
      },
      "execution_count": 32,
      "outputs": [
        {
          "output_type": "stream",
          "name": "stdout",
          "text": [
            "Enter a number: 6\n",
            "6 is not prime.\n"
          ]
        }
      ]
    },
    {
      "cell_type": "code",
      "source": [
        "#while loop with else\n",
        "i = 1\n",
        "while i <= 3:\n",
        "    print(i)\n",
        "    i += 1\n",
        "else:\n",
        "    print(\"While loop ended normally.\")"
      ],
      "metadata": {
        "colab": {
          "base_uri": "https://localhost:8080/"
        },
        "id": "yOSsHDZ1wEe5",
        "outputId": "53b247f6-5924-460a-d3b1-f34899550c6c"
      },
      "execution_count": 34,
      "outputs": [
        {
          "output_type": "stream",
          "name": "stdout",
          "text": [
            "1\n",
            "2\n",
            "3\n",
            "While loop ended normally.\n"
          ]
        }
      ]
    },
    {
      "cell_type": "markdown",
      "source": [
        "# Nested Loops in Python"
      ],
      "metadata": {
        "id": "JonGgAR6wKvc"
      }
    },
    {
      "cell_type": "code",
      "source": [
        "#Print a 3x3 matrix\n",
        "for i in range(3):\n",
        "    for j in range(3):\n",
        "        print(\"*\", end=\" \")\n",
        "    print()"
      ],
      "metadata": {
        "colab": {
          "base_uri": "https://localhost:8080/"
        },
        "id": "F0RhwlSpwTJ8",
        "outputId": "7d7de991-48f2-4cfa-a169-f44bbe6ac5d7"
      },
      "execution_count": 36,
      "outputs": [
        {
          "output_type": "stream",
          "name": "stdout",
          "text": [
            "* * * \n",
            "* * * \n",
            "* * * \n"
          ]
        }
      ]
    },
    {
      "cell_type": "code",
      "source": [
        "#Print a Right-Angled Triangle Pattern\n",
        "for i in range(1, 6):\n",
        "    for j in range(i):\n",
        "        print(\"*\", end=\" \")\n",
        "    print()"
      ],
      "metadata": {
        "colab": {
          "base_uri": "https://localhost:8080/"
        },
        "id": "BNeuBaliwXAd",
        "outputId": "93ebcff6-48fe-465e-ec89-86479d3df610"
      },
      "execution_count": 37,
      "outputs": [
        {
          "output_type": "stream",
          "name": "stdout",
          "text": [
            "* \n",
            "* * \n",
            "* * * \n",
            "* * * * \n",
            "* * * * * \n"
          ]
        }
      ]
    },
    {
      "cell_type": "code",
      "source": [
        "#Print a Number Pattern\n",
        "for i in range(1, 6):\n",
        "    for j in range(1, i + 1):\n",
        "        print(j, end=\" \")\n",
        "    print()"
      ],
      "metadata": {
        "colab": {
          "base_uri": "https://localhost:8080/"
        },
        "id": "kXy33Vo6wjWQ",
        "outputId": "dbce8362-8e3c-4213-96b5-4126e204a74b"
      },
      "execution_count": 38,
      "outputs": [
        {
          "output_type": "stream",
          "name": "stdout",
          "text": [
            "1 \n",
            "1 2 \n",
            "1 2 3 \n",
            "1 2 3 4 \n",
            "1 2 3 4 5 \n"
          ]
        }
      ]
    },
    {
      "cell_type": "code",
      "source": [
        "#Multiplication Table (1 to 5)\n",
        "for i in range(1, 6):\n",
        "    for j in range(1, 6):\n",
        "        print(i * j, end=\"\\t\")\n",
        "    print()"
      ],
      "metadata": {
        "colab": {
          "base_uri": "https://localhost:8080/"
        },
        "id": "QKvfe7uywotk",
        "outputId": "0e02b5f9-6df3-4531-89e5-f171220b9967"
      },
      "execution_count": 40,
      "outputs": [
        {
          "output_type": "stream",
          "name": "stdout",
          "text": [
            "1\t2\t3\t4\t5\t\n",
            "2\t4\t6\t8\t10\t\n",
            "3\t6\t9\t12\t15\t\n",
            "4\t8\t12\t16\t20\t\n",
            "5\t10\t15\t20\t25\t\n"
          ]
        }
      ]
    },
    {
      "cell_type": "code",
      "source": [],
      "metadata": {
        "id": "LztC_-HPwpYY"
      },
      "execution_count": null,
      "outputs": []
    }
  ]
}