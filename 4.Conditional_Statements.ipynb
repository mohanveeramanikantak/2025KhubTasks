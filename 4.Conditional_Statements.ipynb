{
  "nbformat": 4,
  "nbformat_minor": 0,
  "metadata": {
    "colab": {
      "provenance": [],
      "authorship_tag": "ABX9TyO7piEwSRRuGSy+aZZmulCG",
      "include_colab_link": true
    },
    "kernelspec": {
      "name": "python3",
      "display_name": "Python 3"
    },
    "language_info": {
      "name": "python"
    }
  },
  "cells": [
    {
      "cell_type": "markdown",
      "metadata": {
        "id": "view-in-github",
        "colab_type": "text"
      },
      "source": [
        "<a href=\"https://colab.research.google.com/github/mohanveeramanikantak/2025KhubTasks/blob/main/4.Conditional_Statements.ipynb\" target=\"_parent\"><img src=\"https://colab.research.google.com/assets/colab-badge.svg\" alt=\"Open In Colab\"/></a>"
      ]
    },
    {
      "cell_type": "markdown",
      "source": [
        "#if Statement"
      ],
      "metadata": {
        "id": "jAaer7kxTw5-"
      }
    },
    {
      "cell_type": "code",
      "source": [
        "age = 18\n",
        "if age >= 18:\n",
        "    print(\"You are eligible to vote.\")\n"
      ],
      "metadata": {
        "colab": {
          "base_uri": "https://localhost:8080/"
        },
        "id": "DeBx-YnkTy3M",
        "outputId": "88cd4daf-15c9-44d5-dc32-c66fd0b47286"
      },
      "execution_count": null,
      "outputs": [
        {
          "output_type": "stream",
          "name": "stdout",
          "text": [
            "You are eligible to vote.\n"
          ]
        }
      ]
    },
    {
      "cell_type": "markdown",
      "source": [
        "# if-else Statement"
      ],
      "metadata": {
        "id": "fBCSh0WjUCtL"
      }
    },
    {
      "cell_type": "code",
      "source": [
        "num = 5\n",
        "if num % 2 == 0:\n",
        "    print(\"Even number\")\n",
        "else:\n",
        "    print(\"Odd number\")\n"
      ],
      "metadata": {
        "colab": {
          "base_uri": "https://localhost:8080/"
        },
        "id": "P24K0U8mUE-t",
        "outputId": "f25f7f0f-d8e8-44df-a8f5-bbbfe2cf2aa3"
      },
      "execution_count": null,
      "outputs": [
        {
          "output_type": "stream",
          "name": "stdout",
          "text": [
            "Odd number\n"
          ]
        }
      ]
    },
    {
      "cell_type": "markdown",
      "source": [
        "#if-elif-else Ladder"
      ],
      "metadata": {
        "id": "l8E-WwRVUHIn"
      }
    },
    {
      "cell_type": "code",
      "source": [
        "marks = 85\n",
        "\n",
        "if marks >= 90:\n",
        "    print(\"Grade: A\")\n",
        "elif marks >= 75:\n",
        "    print(\"Grade: B\")\n",
        "elif marks >= 60:\n",
        "    print(\"Grade: C\")\n",
        "else:\n",
        "    print(\"Grade: F\")\n"
      ],
      "metadata": {
        "colab": {
          "base_uri": "https://localhost:8080/"
        },
        "id": "NaJuidUiUJ6e",
        "outputId": "3dab6608-4c3c-4d9d-b4bd-5beb56f779e4"
      },
      "execution_count": null,
      "outputs": [
        {
          "output_type": "stream",
          "name": "stdout",
          "text": [
            "Grade: B\n"
          ]
        }
      ]
    },
    {
      "cell_type": "markdown",
      "source": [
        "#. Nested if"
      ],
      "metadata": {
        "id": "lUiZYfTrUPGz"
      }
    },
    {
      "cell_type": "code",
      "source": [
        "x = 20\n",
        "y = 15\n",
        "\n",
        "if x > 10:\n",
        "    if y > 10:\n",
        "        print(\"Both numbers are greater than 10\")\n",
        "    else:\n",
        "        print(\"Only x is greater than 10\")\n"
      ],
      "metadata": {
        "colab": {
          "base_uri": "https://localhost:8080/"
        },
        "id": "lnKGvG8oURyu",
        "outputId": "bd208377-21aa-41c0-e745-7f5d0723e5f0"
      },
      "execution_count": null,
      "outputs": [
        {
          "output_type": "stream",
          "name": "stdout",
          "text": [
            "Both numbers are greater than 10\n"
          ]
        }
      ]
    },
    {
      "cell_type": "markdown",
      "source": [
        "#. Largest of Three Numbers"
      ],
      "metadata": {
        "id": "PjUFt8QwUYsw"
      }
    },
    {
      "cell_type": "code",
      "source": [
        "a = 5\n",
        "b = 10\n",
        "c = 3\n",
        "\n",
        "if a > b and a > c:\n",
        "    print(\"a is the largest\")\n",
        "elif b > c:\n",
        "    print(\"b is the largest\")\n",
        "else:\n",
        "    print(\"c is the largest\")\n"
      ],
      "metadata": {
        "colab": {
          "base_uri": "https://localhost:8080/"
        },
        "id": "s9_ZceJDUaxU",
        "outputId": "7d8fab90-fccb-477d-bca8-7ab6e78f0c2b"
      },
      "execution_count": null,
      "outputs": [
        {
          "output_type": "stream",
          "name": "stdout",
          "text": [
            "b is the largest\n"
          ]
        }
      ]
    },
    {
      "cell_type": "markdown",
      "source": [
        "# Positive, Negative, or Zero"
      ],
      "metadata": {
        "id": "RwOx2NjTUea7"
      }
    },
    {
      "cell_type": "code",
      "source": [
        "num = -10\n",
        "\n",
        "if num > 0:\n",
        "    print(\"Positive number\")\n",
        "elif num == 0:\n",
        "    print(\"Zero\")\n",
        "else:\n",
        "    print(\"Negative number\")\n"
      ],
      "metadata": {
        "colab": {
          "base_uri": "https://localhost:8080/"
        },
        "id": "DPk2OL4dUg-x",
        "outputId": "d7e18f19-83da-455b-e148-99a561e545e7"
      },
      "execution_count": null,
      "outputs": [
        {
          "output_type": "stream",
          "name": "stdout",
          "text": [
            "Negative number\n"
          ]
        }
      ]
    },
    {
      "cell_type": "markdown",
      "source": [
        "#Leap Year Check"
      ],
      "metadata": {
        "id": "yKkNXe0sUltC"
      }
    },
    {
      "cell_type": "code",
      "source": [
        "year = 2024\n",
        "\n",
        "if (year % 4 == 0 and year % 100 != 0) or (year % 400 == 0):\n",
        "    print(\"Leap year\")\n",
        "else:\n",
        "    print(\"Not a leap year\")\n"
      ],
      "metadata": {
        "id": "Y3VQpoEgUqxY"
      },
      "execution_count": null,
      "outputs": []
    }
  ]
}