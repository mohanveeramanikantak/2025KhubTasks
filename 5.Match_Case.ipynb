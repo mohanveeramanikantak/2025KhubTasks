{
  "nbformat": 4,
  "nbformat_minor": 0,
  "metadata": {
    "colab": {
      "provenance": [],
      "authorship_tag": "ABX9TyORILa6eBLcZ2n1Rh09UvCL",
      "include_colab_link": true
    },
    "kernelspec": {
      "name": "python3",
      "display_name": "Python 3"
    },
    "language_info": {
      "name": "python"
    }
  },
  "cells": [
    {
      "cell_type": "markdown",
      "metadata": {
        "id": "view-in-github",
        "colab_type": "text"
      },
      "source": [
        "<a href=\"https://colab.research.google.com/github/mohanveeramanikantak/2025KhubTasks/blob/main/5.Match_Case.ipynb\" target=\"_parent\"><img src=\"https://colab.research.google.com/assets/colab-badge.svg\" alt=\"Open In Colab\"/></a>"
      ]
    },
    {
      "cell_type": "markdown",
      "source": [
        "#The Python Match Statement"
      ],
      "metadata": {
        "id": "qZlgV8HAKR7q"
      }
    },
    {
      "cell_type": "code",
      "source": [
        "day = 4\n",
        "match day:\n",
        "  case 1:\n",
        "    print(\"Monday\")\n",
        "  case 2:\n",
        "    print(\"Tuesday\")\n",
        "  case 3:\n",
        "    print(\"Wednesday\")\n",
        "  case 4:\n",
        "    print(\"Thursday\")\n",
        "  case 5:\n",
        "    print(\"Friday\")\n",
        "  case 6:\n",
        "    print(\"Saturday\")\n",
        "  case 7:\n",
        "    print(\"Sunday\")\n"
      ],
      "metadata": {
        "colab": {
          "base_uri": "https://localhost:8080/"
        },
        "id": "E9phXeTLKS9V",
        "outputId": "a1dc524f-5946-4b12-ac0a-1a2ed7043f3c"
      },
      "execution_count": null,
      "outputs": [
        {
          "output_type": "stream",
          "name": "stdout",
          "text": [
            "Thursday\n"
          ]
        }
      ]
    },
    {
      "cell_type": "markdown",
      "source": [
        "##User Input"
      ],
      "metadata": {
        "id": "ujZilPjhKn5-"
      }
    },
    {
      "cell_type": "code",
      "source": [
        "day = int(input(\"Enter a number (1-7): \"))\n",
        "\n",
        "match day:\n",
        "  case 1:\n",
        "    print(\"Monday\")\n",
        "  case 2:\n",
        "    print(\"Tuesday\")\n",
        "  case 3:\n",
        "    print(\"Wednesday\")\n",
        "  case 4:\n",
        "    print(\"Thursday\")\n",
        "  case 5:\n",
        "    print(\"Friday\")\n",
        "  case 6:\n",
        "    print(\"Saturday\")\n",
        "  case 7:\n",
        "    print(\"Sunday\")\n",
        "  case _:\n",
        "    print(\"Invalid input! Please enter a number from 1 to 7.\")\n"
      ],
      "metadata": {
        "colab": {
          "base_uri": "https://localhost:8080/"
        },
        "id": "FH0GoKkHKqoQ",
        "outputId": "b62b3d93-3e91-4fa6-e0fe-c0e26875cc2a"
      },
      "execution_count": null,
      "outputs": [
        {
          "output_type": "stream",
          "name": "stdout",
          "text": [
            "Enter a number (1-7): 5\n",
            "Friday\n"
          ]
        }
      ]
    },
    {
      "cell_type": "markdown",
      "source": [
        "#Combine Values"
      ],
      "metadata": {
        "id": "byFkM0tXK96x"
      }
    },
    {
      "cell_type": "code",
      "source": [
        "day = 4\n",
        "match day:\n",
        "  case 1 | 2 | 3 | 4 | 5:\n",
        "    print(\"Today is a weekday\")\n",
        "  case 6 | 7:\n",
        "    print(\"I love weekends!\")"
      ],
      "metadata": {
        "colab": {
          "base_uri": "https://localhost:8080/"
        },
        "id": "48D0O5BJK_u8",
        "outputId": "a08d39c2-eb35-448d-c6e8-ff5a6d9a726a"
      },
      "execution_count": null,
      "outputs": [
        {
          "output_type": "stream",
          "name": "stdout",
          "text": [
            "Today is a weekday\n"
          ]
        }
      ]
    },
    {
      "cell_type": "markdown",
      "source": [
        "##User Input Combine Values"
      ],
      "metadata": {
        "id": "UxJnAeM2LIKD"
      }
    },
    {
      "cell_type": "code",
      "source": [
        "day = int(input(\"Enter a number (1-7): \"))\n",
        "match day:\n",
        "  case 1 | 2 | 3 | 4 | 5:\n",
        "    print(\"Today is a weekday\")\n",
        "  case 6 | 7:\n",
        "    print(\"I love weekends!\")"
      ],
      "metadata": {
        "colab": {
          "base_uri": "https://localhost:8080/"
        },
        "id": "1g65F9D_LMLN",
        "outputId": "d4e65f44-0f7d-4e1e-a9bd-02f89eb71817"
      },
      "execution_count": null,
      "outputs": [
        {
          "output_type": "stream",
          "name": "stdout",
          "text": [
            "Enter a number (1-7): 6\n",
            "I love weekends!\n"
          ]
        }
      ]
    },
    {
      "cell_type": "code",
      "source": [],
      "metadata": {
        "id": "HoeR56RNLRXK"
      },
      "execution_count": null,
      "outputs": []
    },
    {
      "cell_type": "markdown",
      "source": [
        "#If Statements as Guards"
      ],
      "metadata": {
        "id": "TYSbvVfKLwGk"
      }
    },
    {
      "cell_type": "code",
      "source": [
        "month = 5\n",
        "day = 4\n",
        "match day:\n",
        "  case 1 | 2 | 3 | 4 | 5 if month == 4:\n",
        "    print(\"A weekday in April\")\n",
        "  case 1 | 2 | 3 | 4 | 5 if month == 5:\n",
        "    print(\"A weekday in May\")\n",
        "  case _:\n",
        "    print(\"No match\")"
      ],
      "metadata": {
        "colab": {
          "base_uri": "https://localhost:8080/"
        },
        "id": "9u_-bmrbL0-h",
        "outputId": "67d46268-fe10-4151-d30f-9583e1f12ac3"
      },
      "execution_count": null,
      "outputs": [
        {
          "output_type": "stream",
          "name": "stdout",
          "text": [
            "A weekday in May\n"
          ]
        }
      ]
    },
    {
      "cell_type": "markdown",
      "source": [
        "##User Input If Statements as Guards"
      ],
      "metadata": {
        "id": "4XOsayG3MBEg"
      }
    },
    {
      "cell_type": "code",
      "source": [
        "month = int(input(\"Enter month (1-12): \"))\n",
        "day = int(input(\"Enter day of week (1-7): \"))  # Assuming 1=Monday, 7=Sunday\n",
        "\n",
        "match day:\n",
        "  case 1 | 2 | 3 | 4 | 5 if month == 4:\n",
        "    print(\"A weekday in April\")\n",
        "  case 1 | 2 | 3 | 4 | 5 if month == 5:\n",
        "    print(\"A weekday in May\")\n",
        "  case _:\n",
        "    print(\"No match\")\n"
      ],
      "metadata": {
        "colab": {
          "base_uri": "https://localhost:8080/"
        },
        "id": "lRpjqNo3MHU3",
        "outputId": "e7a0d5e3-772e-4eb9-d8c7-2c093db9f7d3"
      },
      "execution_count": null,
      "outputs": [
        {
          "output_type": "stream",
          "name": "stdout",
          "text": [
            "Enter month (1-12): 09\n",
            "Enter day of week (1-7): 6\n",
            "No match\n"
          ]
        }
      ]
    }
  ]
}