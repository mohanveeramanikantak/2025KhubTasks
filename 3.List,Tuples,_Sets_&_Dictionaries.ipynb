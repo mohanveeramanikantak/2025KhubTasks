{
  "nbformat": 4,
  "nbformat_minor": 0,
  "metadata": {
    "colab": {
      "provenance": [],
      "authorship_tag": "ABX9TyPBDaJYCCDCUZMrAr8g39W+",
      "include_colab_link": true
    },
    "kernelspec": {
      "name": "python3",
      "display_name": "Python 3"
    },
    "language_info": {
      "name": "python"
    }
  },
  "cells": [
    {
      "cell_type": "markdown",
      "metadata": {
        "id": "view-in-github",
        "colab_type": "text"
      },
      "source": [
        "<a href=\"https://colab.research.google.com/github/mohanveeramanikantak/2025KhubTasks/blob/main/3.List%2CTuples%2C_Sets_%26_Dictionaries.ipynb\" target=\"_parent\"><img src=\"https://colab.research.google.com/assets/colab-badge.svg\" alt=\"Open In Colab\"/></a>"
      ]
    },
    {
      "cell_type": "markdown",
      "source": [
        "#All List Methods"
      ],
      "metadata": {
        "id": "cNSqANJvQVE1"
      }
    },
    {
      "cell_type": "code",
      "source": [
        "\n",
        "fruits = ['apple', 'banana', 'cherry']\n",
        "\n",
        "# 1. append()\n",
        "fruits.append('date')\n",
        "\n",
        "# 2. extend()\n",
        "fruits.extend(['elderberry', 'fig'])\n",
        "\n",
        "# 3. insert()\n",
        "fruits.insert(2, 'grape')\n",
        "\n",
        "# 4. remove()\n",
        "fruits.remove('banana')\n",
        "\n",
        "# 5. pop()\n",
        "fruits.pop()\n",
        "\n",
        "# 6. index()\n",
        "index_of_cherry = fruits.index('cherry')\n",
        "\n",
        "# 7. count()\n",
        "count_apple = fruits.count('apple')\n",
        "\n",
        "# 8. reverse()\n",
        "fruits.reverse()\n",
        "\n",
        "# 9. sort()\n",
        "fruits.sort()\n",
        "\n",
        "# 10. copy()\n",
        "new_list = fruits.copy()\n",
        "\n",
        "# Final Output\n",
        "print(\"Final Fruits List:\", fruits)\n",
        "print(\"Copied List:\", new_list)\n",
        "print(\"Index of 'cherry':\", index_of_cherry)\n",
        "print(\"Count of 'apple':\", count_apple)\n"
      ],
      "metadata": {
        "colab": {
          "base_uri": "https://localhost:8080/"
        },
        "id": "EesNI1j1QfjB",
        "outputId": "22f7ba43-b082-492b-8742-69a3c3561a5a"
      },
      "execution_count": null,
      "outputs": [
        {
          "output_type": "stream",
          "name": "stdout",
          "text": [
            "Final Fruits List: ['apple', 'cherry', 'date', 'elderberry', 'grape']\n",
            "Copied List: ['apple', 'cherry', 'date', 'elderberry', 'grape']\n",
            "Index of 'cherry': 2\n",
            "Count of 'apple': 1\n"
          ]
        }
      ]
    },
    {
      "cell_type": "markdown",
      "source": [
        "#All Tuple Methods"
      ],
      "metadata": {
        "id": "rh73DDFNREBX"
      }
    },
    {
      "cell_type": "code",
      "source": [
        "fruits = ('apple', 'banana', 'cherry', 'banana', 'apple')\n",
        "\n",
        "# 1. count()\n",
        "apple_count = fruits.count('apple')\n",
        "\n",
        "# 2. index()\n",
        "banana_index = fruits.index('banana')\n",
        "\n",
        "# 3. len()\n",
        "length = len(fruits)\n",
        "\n",
        "# 4. in\n",
        "is_mango_present = 'mango' in fruits\n",
        "\n",
        "# 5. Tuple concatenation\n",
        "more_fruits = ('date', 'elderberry')\n",
        "combined = fruits + more_fruits\n",
        "\n",
        "# 6. Tuple repetition\n",
        "repeated = fruits * 2\n",
        "\n",
        "# 7. Converting list to tuple\n",
        "fruit_list = ['fig', 'grape']\n",
        "fruit_tuple = tuple(fruit_list)\n",
        "\n",
        "# 8. Sorted (returns list)\n",
        "sorted_fruits = sorted(fruits)\n",
        "\n",
        "# Output\n",
        "print(\"Original Tuple:\", fruits)\n",
        "print(\"Count of 'apple':\", apple_count)\n",
        "print(\"Index of 'banana':\", banana_index)\n",
        "print(\"Length:\", length)\n",
        "print(\"Is 'mango' present?\", is_mango_present)\n",
        "print(\"Combined Tuple:\", combined)\n",
        "print(\"Repeated Tuple:\", repeated)\n",
        "print(\"List to Tuple:\", fruit_tuple)\n",
        "print(\"Sorted Tuple (as list):\", sorted_fruits)"
      ],
      "metadata": {
        "colab": {
          "base_uri": "https://localhost:8080/"
        },
        "id": "ggz4MKRiRFz8",
        "outputId": "0387f119-f8f0-42cf-ecb8-e9f5520d3f17"
      },
      "execution_count": null,
      "outputs": [
        {
          "output_type": "stream",
          "name": "stdout",
          "text": [
            "Original Tuple: ('apple', 'banana', 'cherry', 'banana', 'apple')\n",
            "Count of 'apple': 2\n",
            "Index of 'banana': 1\n",
            "Length: 5\n",
            "Is 'mango' present? False\n",
            "Combined Tuple: ('apple', 'banana', 'cherry', 'banana', 'apple', 'date', 'elderberry')\n",
            "Repeated Tuple: ('apple', 'banana', 'cherry', 'banana', 'apple', 'apple', 'banana', 'cherry', 'banana', 'apple')\n",
            "List to Tuple: ('fig', 'grape')\n",
            "Sorted Tuple (as list): ['apple', 'apple', 'banana', 'banana', 'cherry']\n"
          ]
        }
      ]
    },
    {
      "cell_type": "markdown",
      "source": [
        "#All Set Methods"
      ],
      "metadata": {
        "id": "cLN1yOTKRUMy"
      }
    },
    {
      "cell_type": "code",
      "source": [
        "my_set = {1, 2, 3}\n",
        "print(\"Original Set:\", my_set)\n",
        "\n",
        "# 1. add()\n",
        "my_set.add(4)\n",
        "\n",
        "# 2. update()\n",
        "my_set.update([5, 6])\n",
        "\n",
        "# 3. remove()\n",
        "my_set.remove(6)\n",
        "\n",
        "# 4. discard() - no error if element not present\n",
        "my_set.discard(10)\n",
        "\n",
        "# 5. pop() - removes random element\n",
        "my_set.pop()\n",
        "\n",
        "# 6. clear()\n",
        "copy_set = my_set.copy()\n",
        "copy_set.clear()\n",
        "\n",
        "print(\"Updated Set:\", my_set)\n",
        "print(\"Cleared Set:\", copy_set)"
      ],
      "metadata": {
        "colab": {
          "base_uri": "https://localhost:8080/"
        },
        "id": "ctRdnTtMRWBt",
        "outputId": "66614166-0fde-4ea2-8f1b-fa4ff2bd1e5a"
      },
      "execution_count": null,
      "outputs": [
        {
          "output_type": "stream",
          "name": "stdout",
          "text": [
            "Original Set: {1, 2, 3}\n",
            "Updated Set: {2, 3, 4, 5}\n",
            "Cleared Set: set()\n"
          ]
        }
      ]
    },
    {
      "cell_type": "markdown",
      "source": [
        "#Creating and Accessing a Dictionary"
      ],
      "metadata": {
        "id": "OVfyzcVHSOdz"
      }
    },
    {
      "cell_type": "code",
      "source": [
        "student = {\n",
        "    \"name\": \"Mohan\",\n",
        "    \"age\": 20,\n",
        "    \"branch\": \"CSE\"\n",
        "}\n",
        "print(\"Name:\", student[\"name\"])\n",
        "print(\"Age:\", student[\"age\"])\n",
        "print(\"Branch:\", student[\"branch\"])"
      ],
      "metadata": {
        "colab": {
          "base_uri": "https://localhost:8080/"
        },
        "id": "agYmRV5OSQSe",
        "outputId": "642b2658-6224-4d33-9af6-d984ff7ab30d"
      },
      "execution_count": null,
      "outputs": [
        {
          "output_type": "stream",
          "name": "stdout",
          "text": [
            "Name: Mohan\n",
            "Age: 20\n",
            "Branch: CSE\n"
          ]
        }
      ]
    },
    {
      "cell_type": "markdown",
      "source": [
        "# Modifying, Adding, and Deleting Elements"
      ],
      "metadata": {
        "id": "YiCIs4xLSbMl"
      }
    },
    {
      "cell_type": "code",
      "source": [
        "student = {\n",
        "    \"name\": \"Mohan\",\n",
        "    \"age\": 20\n",
        "}\n",
        "student[\"college\"] = \"KIET\"\n",
        "student[\"age\"] = 21\n",
        "del student[\"name\"]\n",
        "print(student)"
      ],
      "metadata": {
        "colab": {
          "base_uri": "https://localhost:8080/"
        },
        "id": "y3qryX0xSfP6",
        "outputId": "09fc77f0-c439-4117-d8de-bbc9eba72993"
      },
      "execution_count": null,
      "outputs": [
        {
          "output_type": "stream",
          "name": "stdout",
          "text": [
            "{'age': 21, 'college': 'KIET'}\n"
          ]
        }
      ]
    }
  ]
}